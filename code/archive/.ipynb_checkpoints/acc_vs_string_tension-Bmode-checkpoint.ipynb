{
 "cells": [
  {
   "cell_type": "code",
   "execution_count": 1,
   "id": "58bd3602",
   "metadata": {},
   "outputs": [
    {
     "name": "stderr",
     "output_type": "stream",
     "text": [
      "2021-09-27 10:34:05.727873: I tensorflow/stream_executor/platform/default/dso_loader.cc:49] Successfully opened dynamic library libcudart.so.10.1\n"
     ]
    }
   ],
   "source": [
    "import numpy as np\n",
    "import pandas as pd\n",
    "\n",
    "from tensorflow import keras\n",
    "from sklearn.model_selection import StratifiedKFold\n",
    "import tensorflow as tf\n",
    "\n",
    "from utilities import load_data, get_model"
   ]
  },
  {
   "cell_type": "code",
   "execution_count": 2,
   "id": "38dd74fa",
   "metadata": {},
   "outputs": [],
   "source": [
    "x = np.exp(np.linspace(np.log(10**-(6)), np.log(10**(-8)), 10))\n",
    "df = pd.DataFrame(columns=['string_tension', 'acc_per_fold_train', 'acc_per_fold_test', 'loss_per_fold_train', 'loss_per_fold_test'])"
   ]
  },
  {
   "cell_type": "code",
   "execution_count": null,
   "id": "6a7bd1ea",
   "metadata": {},
   "outputs": [],
   "source": [
    "for i, string_tension in enumerate(x) :\n",
    "    \n",
    "    \n",
    "    X,y = load_data(100, amplitude= string_tension/(10**(-7)), bmode=True)\n",
    "\n",
    "\n",
    "    skfold = StratifiedKFold(n_splits=8)\n",
    "\n",
    "    acc_per_fold_train = []\n",
    "    loss_per_fold_train = []\n",
    "    acc_per_fold_test = []\n",
    "    loss_per_fold_test = []\n",
    "    \n",
    "    for train, test in skfold.split(X,y):\n",
    "\n",
    "        #define the model\n",
    "        model = get_model(input_shape=X.shape[1:])\n",
    "\n",
    "        #fit the model\n",
    "        history = model.fit(X[train], y[train], epochs=5, batch_size=50, verbose=1)\n",
    "\n",
    "        #evaluate the model\n",
    "        scores = model.evaluate(X[train], y[train], verbose=0)\n",
    "        acc_per_fold_train.append(scores[1] * 100)\n",
    "        loss_per_fold_train.append(scores[0])\n",
    "        \n",
    "        scores = model.evaluate(X[test], y[test], verbose=0)\n",
    "        acc_per_fold_test.append(scores[1] * 100)\n",
    "        loss_per_fold_test.append(scores[0])\n",
    "\n",
    "        df.loc[i] =  [string_tension, \n",
    "                     (np.mean(acc_per_fold_train), np.std(acc_per_fold_train)),\n",
    "                     (np.mean(acc_per_fold_test), np.std(acc_per_fold_test)),\n",
    "                     (np.mean(loss_per_fold_train), np.std(loss_per_fold_train)),\n",
    "                     (np.mean(loss_per_fold_test), np.std(loss_per_fold_test))]\n",
    "        \n",
    "        print([string_tension, \n",
    "                     (np.mean(acc_per_fold_train), np.std(acc_per_fold_train)),\n",
    "                     (np.mean(acc_per_fold_test), np.std(acc_per_fold_test)),\n",
    "                     (np.mean(loss_per_fold_train), np.std(loss_per_fold_train)),\n",
    "                     (np.mean(loss_per_fold_test), np.std(loss_per_fold_test))])"
   ]
  },
  {
   "cell_type": "code",
   "execution_count": null,
   "id": "cbe3bd3c",
   "metadata": {},
   "outputs": [],
   "source": [
    "df.to_csv('./results/acc_loss_vs_tension.csv')"
   ]
  },
  {
   "cell_type": "code",
   "execution_count": null,
   "id": "2bf5922a",
   "metadata": {},
   "outputs": [],
   "source": [
    "df"
   ]
  },
  {
   "cell_type": "code",
   "execution_count": null,
   "id": "e2318c98",
   "metadata": {},
   "outputs": [],
   "source": []
  }
 ],
 "metadata": {
  "kernelspec": {
   "display_name": "Python 3 (ipykernel)",
   "language": "python",
   "name": "python3"
  },
  "language_info": {
   "codemirror_mode": {
    "name": "ipython",
    "version": 3
   },
   "file_extension": ".py",
   "mimetype": "text/x-python",
   "name": "python",
   "nbconvert_exporter": "python",
   "pygments_lexer": "ipython3",
   "version": "3.9.7"
  }
 },
 "nbformat": 4,
 "nbformat_minor": 5
}
