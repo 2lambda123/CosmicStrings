{
 "cells": [
  {
   "cell_type": "code",
   "execution_count": 17,
   "metadata": {},
   "outputs": [],
   "source": [
    "import numpy as np\n",
    "import pandas as pd\n",
    "import matplotlib.pyplot as plt\n",
    "\n",
    "from tensorflow import keras\n",
    "from sklearn.model_selection import StratifiedKFold\n",
    "\n",
    "from utilities import load_data"
   ]
  },
  {
   "cell_type": "code",
   "execution_count": 21,
   "metadata": {},
   "outputs": [],
   "source": [
    "X,y = load_data(100, amplitude=100)"
   ]
  },
  {
   "cell_type": "code",
   "execution_count": 19,
   "metadata": {},
   "outputs": [
    {
     "data": {
      "text/plain": [
       "(200, 400, 400, 1)"
      ]
     },
     "execution_count": 19,
     "metadata": {},
     "output_type": "execute_result"
    }
   ],
   "source": [
    "X.shape #2n samples of 400x400 pixels, with a depth of 1 (greyscale type)"
   ]
  },
  {
   "cell_type": "code",
   "execution_count": 22,
   "metadata": {},
   "outputs": [
    {
     "data": {
      "text/plain": [
       "array([0., 1., 1., 0., 1., 1., 0., 1., 0., 1., 0., 1., 1., 1., 0., 0., 0.,\n",
       "       1., 0., 0., 1., 1., 0., 1., 0., 1., 1., 1., 1., 0., 0., 0., 1., 1.,\n",
       "       0., 1., 1., 0., 0., 1., 1., 0., 0., 1., 1., 0., 0., 0., 1., 1., 0.,\n",
       "       1., 1., 0., 1., 0., 0., 1., 0., 0., 1., 0., 1., 0., 1., 0., 0., 1.,\n",
       "       0., 0., 1., 0., 1., 1., 1., 0., 1., 0., 0., 1., 1., 0., 1., 1., 1.,\n",
       "       0., 0., 0., 1., 1., 0., 0., 1., 0., 1., 1., 1., 1., 0., 1., 1., 1.,\n",
       "       0., 0., 0., 1., 0., 0., 1., 0., 0., 0., 0., 0., 0., 1., 0., 1., 1.,\n",
       "       0., 0., 0., 1., 0., 1., 0., 0., 1., 1., 1., 0., 0., 0., 1., 1., 1.,\n",
       "       1., 0., 1., 0., 1., 1., 0., 0., 0., 0., 1., 1., 0., 1., 1., 1., 0.,\n",
       "       0., 1., 0., 1., 1., 0., 0., 1., 1., 0., 1., 1., 1., 0., 1., 1., 1.,\n",
       "       0., 0., 0., 0., 1., 1., 1., 0., 0., 0., 1., 0., 1., 1., 1., 0., 0.,\n",
       "       1., 0., 0., 0., 0., 0., 0., 1., 0., 1., 1., 0., 1.])"
      ]
     },
     "execution_count": 22,
     "metadata": {},
     "output_type": "execute_result"
    }
   ],
   "source": [
    "y"
   ]
  },
  {
   "cell_type": "code",
   "execution_count": 25,
   "metadata": {},
   "outputs": [
    {
     "data": {
      "text/plain": [
       "<matplotlib.image.AxesImage at 0x2cb8dcf7d30>"
      ]
     },
     "execution_count": 25,
     "metadata": {},
     "output_type": "execute_result"
    },
    {
     "data": {
      "image/png": "[encoded data removed]",
      "text/plain": [
       "<Figure size 432x288 with 1 Axes>"
      ]
     },
     "metadata": {
      "needs_background": "light"
     },
     "output_type": "display_data"
    }
   ],
   "source": [
    "plt.imshow(X[2].reshape(400,400))"
   ]
  },
  {
   "cell_type": "code",
   "execution_count": 11,
   "metadata": {},
   "outputs": [],
   "source": [
    "skfold = StratifiedKFold(n_splits=5)"
   ]
  },
  {
   "cell_type": "code",
   "execution_count": 15,
   "metadata": {
    "scrolled": true
   },
   "outputs": [
    {
     "name": "stdout",
     "output_type": "stream",
     "text": [
      "Epoch 1/5\n",
      "16/16 [==============================] - 9s 586ms/step - loss: 0.8963 - accuracy: 0.5312\n",
      "Epoch 2/5\n",
      "16/16 [==============================] - 9s 546ms/step - loss: 1.8832 - accuracy: 0.8375\n",
      "Epoch 3/5\n",
      "16/16 [==============================] - 9s 533ms/step - loss: 0.6400 - accuracy: 0.8875\n",
      "Epoch 4/5\n",
      "16/16 [==============================] - 8s 507ms/step - loss: 0.3990 - accuracy: 0.9688\n",
      "Epoch 5/5\n",
      "16/16 [==============================] - 8s 526ms/step - loss: 0.0972 - accuracy: 0.9688\n",
      "WARNING:tensorflow:6 out of the last 11 calls to <function Model.make_test_function.<locals>.test_function at 0x000002CBC75F70D0> triggered tf.function retracing. Tracing is expensive and the excessive number of tracings could be due to (1) creating @tf.function repeatedly in a loop, (2) passing tensors with different shapes, (3) passing Python objects instead of tensors. For (1), please define your @tf.function outside of the loop. For (2), @tf.function has experimental_relax_shapes=True option that relaxes argument shapes that can avoid unnecessary retracing. For (3), please refer to https://www.tensorflow.org/tutorials/customization/performance#python_or_tensor_args and https://www.tensorflow.org/api_docs/python/tf/function for  more details.\n",
      "2/2 [==============================] - 0s 28ms/step - loss: 2.5656 - accuracy: 0.4250\n",
      "Epoch 1/5\n",
      "16/16 [==============================] - 9s 545ms/step - loss: 1.0692 - accuracy: 0.5312\n",
      "Epoch 2/5\n",
      "16/16 [==============================] - 9s 552ms/step - loss: 1.8737 - accuracy: 0.8500\n",
      "Epoch 3/5\n",
      "16/16 [==============================] - 9s 535ms/step - loss: 0.8593 - accuracy: 0.8438\n",
      "Epoch 4/5\n",
      "16/16 [==============================] - 9s 557ms/step - loss: 0.2522 - accuracy: 0.9688\n",
      "Epoch 5/5\n",
      "16/16 [==============================] - 8s 522ms/step - loss: 7.1299e-04 - accuracy: 1.0000\n",
      "WARNING:tensorflow:6 out of the last 11 calls to <function Model.make_test_function.<locals>.test_function at 0x000002CBC7A8BE50> triggered tf.function retracing. Tracing is expensive and the excessive number of tracings could be due to (1) creating @tf.function repeatedly in a loop, (2) passing tensors with different shapes, (3) passing Python objects instead of tensors. For (1), please define your @tf.function outside of the loop. For (2), @tf.function has experimental_relax_shapes=True option that relaxes argument shapes that can avoid unnecessary retracing. For (3), please refer to https://www.tensorflow.org/tutorials/customization/performance#python_or_tensor_args and https://www.tensorflow.org/api_docs/python/tf/function for  more details.\n",
      "2/2 [==============================] - 0s 21ms/step - loss: 7.5067 - accuracy: 0.4500\n",
      "Epoch 1/5\n",
      "16/16 [==============================] - 9s 533ms/step - loss: 1.0236 - accuracy: 0.4437\n",
      "Epoch 2/5\n",
      "16/16 [==============================] - 9s 559ms/step - loss: 2.2412 - accuracy: 0.7750\n",
      "Epoch 3/5\n",
      "16/16 [==============================] - 9s 570ms/step - loss: 1.1029 - accuracy: 0.9250\n",
      "Epoch 4/5\n",
      "16/16 [==============================] - 9s 563ms/step - loss: 0.5652 - accuracy: 0.9563\n",
      "Epoch 5/5\n",
      "16/16 [==============================] - 9s 556ms/step - loss: 0.4170 - accuracy: 0.9500\n",
      "WARNING:tensorflow:6 out of the last 11 calls to <function Model.make_test_function.<locals>.test_function at 0x000002CB8C79EDC0> triggered tf.function retracing. Tracing is expensive and the excessive number of tracings could be due to (1) creating @tf.function repeatedly in a loop, (2) passing tensors with different shapes, (3) passing Python objects instead of tensors. For (1), please define your @tf.function outside of the loop. For (2), @tf.function has experimental_relax_shapes=True option that relaxes argument shapes that can avoid unnecessary retracing. For (3), please refer to https://www.tensorflow.org/tutorials/customization/performance#python_or_tensor_args and https://www.tensorflow.org/api_docs/python/tf/function for  more details.\n",
      "2/2 [==============================] - 0s 27ms/step - loss: 3.9780 - accuracy: 0.5000\n",
      "Epoch 1/5\n",
      "16/16 [==============================] - 9s 536ms/step - loss: 1.1091 - accuracy: 0.5188\n",
      "Epoch 2/5\n",
      "16/16 [==============================] - 8s 518ms/step - loss: 2.2426 - accuracy: 0.7437\n",
      "Epoch 3/5\n",
      "16/16 [==============================] - 8s 516ms/step - loss: 1.1521 - accuracy: 0.8875\n",
      "Epoch 4/5\n",
      "16/16 [==============================] - 8s 511ms/step - loss: 0.8002 - accuracy: 0.9375\n",
      "Epoch 5/5\n",
      "16/16 [==============================] - 8s 512ms/step - loss: 0.2704 - accuracy: 0.9688\n",
      "WARNING:tensorflow:6 out of the last 11 calls to <function Model.make_test_function.<locals>.test_function at 0x000002CBC72F5CA0> triggered tf.function retracing. Tracing is expensive and the excessive number of tracings could be due to (1) creating @tf.function repeatedly in a loop, (2) passing tensors with different shapes, (3) passing Python objects instead of tensors. For (1), please define your @tf.function outside of the loop. For (2), @tf.function has experimental_relax_shapes=True option that relaxes argument shapes that can avoid unnecessary retracing. For (3), please refer to https://www.tensorflow.org/tutorials/customization/performance#python_or_tensor_args and https://www.tensorflow.org/api_docs/python/tf/function for  more details.\n",
      "2/2 [==============================] - 0s 27ms/step - loss: 3.3823 - accuracy: 0.6000\n",
      "Epoch 1/5\n",
      "16/16 [==============================] - 9s 537ms/step - loss: 0.9394 - accuracy: 0.5000\n",
      "Epoch 2/5\n",
      "16/16 [==============================] - 9s 544ms/step - loss: 3.1832 - accuracy: 0.6812\n",
      "Epoch 3/5\n",
      "16/16 [==============================] - 9s 551ms/step - loss: 0.8006 - accuracy: 0.8687\n",
      "Epoch 4/5\n",
      "16/16 [==============================] - 8s 516ms/step - loss: 0.3725 - accuracy: 0.9563\n",
      "Epoch 5/5\n",
      "16/16 [==============================] - 8s 512ms/step - loss: 0.0799 - accuracy: 0.9875\n",
      "WARNING:tensorflow:6 out of the last 11 calls to <function Model.make_test_function.<locals>.test_function at 0x000002CBC764FB80> triggered tf.function retracing. Tracing is expensive and the excessive number of tracings could be due to (1) creating @tf.function repeatedly in a loop, (2) passing tensors with different shapes, (3) passing Python objects instead of tensors. For (1), please define your @tf.function outside of the loop. For (2), @tf.function has experimental_relax_shapes=True option that relaxes argument shapes that can avoid unnecessary retracing. For (3), please refer to https://www.tensorflow.org/tutorials/customization/performance#python_or_tensor_args and https://www.tensorflow.org/api_docs/python/tf/function for  more details.\n",
      "2/2 [==============================] - 0s 26ms/step - loss: 3.3508 - accuracy: 0.6000\n"
     ]
    }
   ],
   "source": [
    "acc_per_fold = []\n",
    "loss_per_fold = []\n",
    "\n",
    "for train, test in skfold.split(X,y):\n",
    "    \n",
    "    #define the model\n",
    "    model = keras.Sequential([\n",
    "    keras.layers.Flatten(input_shape=(400, 400, 1)),\n",
    "    keras.layers.Dense(units=1024, activation='relu'),\n",
    "    keras.layers.Dense(units=512, activation='relu'),\n",
    "    keras.layers.Dense(units=256, activation='relu'),\n",
    "    keras.layers.Dense(units=128, activation='relu'),\n",
    "    keras.layers.Dense(units=64, activation='relu'),\n",
    "    keras.layers.Dense(units=32, activation='relu'),\n",
    "    keras.layers.Dense(units=1, activation='sigmoid')\n",
    "    ])\n",
    "    \n",
    "    #compile the model\n",
    "    model.compile(loss='binary_crossentropy', optimizer='adam', metrics=['accuracy'])\n",
    "    \n",
    "    #fit the model\n",
    "    history = model.fit(X[train], y[train], epochs=5, batch_size=10)\n",
    "    \n",
    "    #evaluate the model\n",
    "    scores = model.evaluate(X[test], y[test])\n",
    "    acc_per_fold.append(scores[1] * 100)\n",
    "    loss_per_fold.append(scores[0])\n",
    "\n"
   ]
  },
  {
   "cell_type": "code",
   "execution_count": 16,
   "metadata": {},
   "outputs": [
    {
     "data": {
      "text/plain": [
       "51.500000953674316"
      ]
     },
     "execution_count": 16,
     "metadata": {},
     "output_type": "execute_result"
    }
   ],
   "source": [
    "np.mean(acc_per_fold)"
   ]
  },
  {
   "cell_type": "code",
   "execution_count": null,
   "metadata": {},
   "outputs": [],
   "source": []
  }
 ],
 "metadata": {
  "kernelspec": {
   "display_name": "Python 3",
   "language": "python",
   "name": "python3"
  },
  "language_info": {
   "codemirror_mode": {
    "name": "ipython",
    "version": 3
   },
   "file_extension": ".py",
   "mimetype": "text/x-python",
   "name": "python",
   "nbconvert_exporter": "python",
   "pygments_lexer": "ipython3",
   "version": "3.8.8"
  }
 },
 "nbformat": 4,
 "nbformat_minor": 4
}
