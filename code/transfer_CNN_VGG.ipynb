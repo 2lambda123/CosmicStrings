{
 "cells": [
  {
   "cell_type": "code",
   "execution_count": 8,
   "id": "2faecafc",
   "metadata": {},
   "outputs": [],
   "source": [
    "from utilities import load_data\n",
    "from tensorflow import keras\n",
    "import numpy as np\n",
    "from sklearn.model_selection import train_test_split"
   ]
  },
  {
   "cell_type": "code",
   "execution_count": 2,
   "id": "39de5cbe",
   "metadata": {},
   "outputs": [],
   "source": [
    "X,y = load_data(100, amplitude=10)"
   ]
  },
  {
   "cell_type": "code",
   "execution_count": 3,
   "id": "761aa00d",
   "metadata": {},
   "outputs": [],
   "source": [
    "X = np.repeat(X, 3, -1)"
   ]
  },
  {
   "cell_type": "code",
   "execution_count": 9,
   "id": "8f59e8d0",
   "metadata": {},
   "outputs": [],
   "source": [
    "X_train, X_test, y_train, y_test = train_test_split(X, y, test_size=0.33, random_state=42)"
   ]
  },
  {
   "cell_type": "code",
   "execution_count": 10,
   "id": "837e3af6",
   "metadata": {},
   "outputs": [],
   "source": [
    "base_model = keras.applications.VGG16(\n",
    "    weights='imagenet', \n",
    "    input_shape=X.shape[1:],\n",
    "    include_top=False)"
   ]
  },
  {
   "cell_type": "code",
   "execution_count": 11,
   "id": "4397e726",
   "metadata": {},
   "outputs": [],
   "source": [
    "base_model.trainable = False"
   ]
  },
  {
   "cell_type": "code",
   "execution_count": 12,
   "id": "191bc7e3",
   "metadata": {},
   "outputs": [],
   "source": [
    "inputs = keras.Input(shape=X.shape[1:])\n",
    "# We make sure that the base_model is running in inference mode here,\n",
    "# by passing `training=False`. This is important for fine-tuning, as you will\n",
    "# learn in a few paragraphs.\n",
    "x = base_model(inputs, training=False)\n",
    "# Convert features of shape `base_model.output_shape[1:]` to vectors\n",
    "x = keras.layers.GlobalAveragePooling2D()(x)\n",
    "# A Dense classifier with a single unit (binary classification)\n",
    "outputs = keras.layers.Dense(1)(x)\n",
    "model = keras.Model(inputs, outputs)"
   ]
  },
  {
   "cell_type": "code",
   "execution_count": 13,
   "id": "8810b152",
   "metadata": {},
   "outputs": [
    {
     "name": "stdout",
     "output_type": "stream",
     "text": [
      "Model: \"functional_3\"\n",
      "_________________________________________________________________\n",
      "Layer (type)                 Output Shape              Param #   \n",
      "=================================================================\n",
      "input_4 (InputLayer)         [(None, 400, 400, 3)]     0         \n",
      "_________________________________________________________________\n",
      "vgg16 (Functional)           (None, 12, 12, 512)       14714688  \n",
      "_________________________________________________________________\n",
      "global_average_pooling2d_1 ( (None, 512)               0         \n",
      "_________________________________________________________________\n",
      "dense_1 (Dense)              (None, 1)                 513       \n",
      "=================================================================\n",
      "Total params: 14,715,201\n",
      "Trainable params: 513\n",
      "Non-trainable params: 14,714,688\n",
      "_________________________________________________________________\n"
     ]
    }
   ],
   "source": [
    "model.summary()"
   ]
  },
  {
   "cell_type": "code",
   "execution_count": 14,
   "id": "1b509cc9",
   "metadata": {},
   "outputs": [],
   "source": [
    "model.compile(loss='binary_crossentropy', optimizer='adam', metrics=['acc'])"
   ]
  },
  {
   "cell_type": "code",
   "execution_count": 15,
   "id": "2705c49b",
   "metadata": {},
   "outputs": [
    {
     "name": "stdout",
     "output_type": "stream",
     "text": [
      "Epoch 1/10\n",
      "6/6 [==============================] - 37s 6s/step - loss: 0.9525 - acc: 0.4627\n",
      "Epoch 2/10\n",
      "6/6 [==============================] - 41s 7s/step - loss: 0.7204 - acc: 0.4104\n",
      "Epoch 3/10\n",
      "6/6 [==============================] - 40s 7s/step - loss: 0.6741 - acc: 0.5373\n",
      "Epoch 4/10\n",
      "6/6 [==============================] - 41s 7s/step - loss: 0.6754 - acc: 0.5373\n",
      "Epoch 5/10\n",
      "6/6 [==============================] - 41s 7s/step - loss: 0.6739 - acc: 0.5373\n",
      "Epoch 6/10\n",
      "6/6 [==============================] - 40s 7s/step - loss: 0.6655 - acc: 0.5373\n",
      "Epoch 7/10\n",
      "6/6 [==============================] - 40s 7s/step - loss: 0.6562 - acc: 0.5373\n",
      "Epoch 8/10\n",
      "6/6 [==============================] - 40s 7s/step - loss: 0.6514 - acc: 0.5373\n",
      "Epoch 9/10\n",
      "6/6 [==============================] - 40s 7s/step - loss: 0.6466 - acc: 0.5373\n",
      "Epoch 10/10\n",
      "6/6 [==============================] - 41s 7s/step - loss: 0.6432 - acc: 0.7463\n"
     ]
    }
   ],
   "source": [
    "history = model.fit(X_train, y_train, epochs=10, batch_size=25, verbose=1)"
   ]
  },
  {
   "cell_type": "code",
   "execution_count": 17,
   "id": "ec6aebe1",
   "metadata": {},
   "outputs": [
    {
     "name": "stdout",
     "output_type": "stream",
     "text": [
      "3/3 [==============================] - 11s 4s/step - loss: 0.6664 - acc: 0.8485\n"
     ]
    },
    {
     "data": {
      "text/plain": [
       "{'loss': 0.6663767695426941, 'acc': 0.8484848737716675}"
      ]
     },
     "execution_count": 17,
     "metadata": {},
     "output_type": "execute_result"
    }
   ],
   "source": [
    "model.evaluate(X_test, y_test, return_dict=True)"
   ]
  },
  {
   "cell_type": "code",
   "execution_count": 18,
   "id": "83caa45f",
   "metadata": {},
   "outputs": [
    {
     "name": "stdout",
     "output_type": "stream",
     "text": [
      "5/5 [==============================] - 34s 7s/step - loss: 0.6399 - acc: 0.8731\n"
     ]
    },
    {
     "data": {
      "text/plain": [
       "{'loss': 0.6398996710777283, 'acc': 0.8731343150138855}"
      ]
     },
     "execution_count": 18,
     "metadata": {},
     "output_type": "execute_result"
    }
   ],
   "source": [
    "model.evaluate(X_train, y_train, return_dict=True)"
   ]
  },
  {
   "cell_type": "code",
   "execution_count": null,
   "id": "75ca7848",
   "metadata": {},
   "outputs": [],
   "source": []
  }
 ],
 "metadata": {
  "kernelspec": {
   "display_name": "Python 3",
   "language": "python",
   "name": "python3"
  },
  "language_info": {
   "codemirror_mode": {
    "name": "ipython",
    "version": 3
   },
   "file_extension": ".py",
   "mimetype": "text/x-python",
   "name": "python",
   "nbconvert_exporter": "python",
   "pygments_lexer": "ipython3",
   "version": "3.8.8"
  }
 },
 "nbformat": 4,
 "nbformat_minor": 5
}
