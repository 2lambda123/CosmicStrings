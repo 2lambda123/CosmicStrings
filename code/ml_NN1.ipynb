{
 "cells": [
  {
   "cell_type": "code",
   "execution_count": 9,
   "metadata": {},
   "outputs": [],
   "source": [
    "import numpy as np\n",
    "import pandas as pd\n",
    "from sklearn.utils import shuffle\n",
    "from tensorflow import keras\n",
    "from sklearn.model_selection import train_test_split"
   ]
  },
  {
   "cell_type": "code",
   "execution_count": 37,
   "metadata": {},
   "outputs": [],
   "source": [
    "def get_data(n, amplitude=1, dataset='dataset_1'):\n",
    "    '''\n",
    "    returns the maps with and without cosmic string signal with appropriate labels (index matching).\n",
    "    \n",
    "    Parameters:\n",
    "    --------------\n",
    "    n : number of maps to be fetched for each type of map (thus it returns 2*l maps)\n",
    "    \n",
    "    amplitude : multiplicative factor used to augment the cosmic string signal\n",
    "    \n",
    "    dataset : the dataset from which the data is pulled\n",
    "    \n",
    "    '''\n",
    "    #load the data\n",
    "    path_ns = \"../data/\" + dataset + \"/ns-maps/\"\n",
    "    path_ws = \"../data/\" + dataset + \"/ws-maps/\"\n",
    "    \n",
    "    #here the shape of arr_ns is n rows by 400^2 pixels, so (n,160000)\n",
    "    arr_ns = np.array([np.load(path_ns + \"ns-map\"+str(i)+\".npy\").flatten() for i in range(n)]) #no signal maps (y=0)\n",
    "    \n",
    "    arr_ws_noise = np.array([np.load(path_ws + \"noise/noise\"+str(i)+\".npy\").flatten() for i in range(n)])\n",
    "    arr_ws_signal = np.array([np.load(path_ws + \"signal/signal\"+str(i)+\".npy\").flatten() for i in range(n)])\n",
    "    \n",
    "    #here we combine the signal map and noise maps. We can add these this way by construction of arr_ws_noise and arr_ns_signal\n",
    "    arr_ws = amplitude*arr_ws_signal + arr_ws_noise #with signal maps (y=1)\n",
    "    \n",
    "    #labels \n",
    "    y = np.append(np.zeros(n), np.ones(n))\n",
    "    \n",
    "    #an array of the form (n + n, 400^2) where the first n maps contain no signal and the last n do.\n",
    "    X = np.concatenate((arr_ns,arr_ws),axis=0)\n",
    "    \n",
    "    #we return a shuffled version of the data\n",
    "    return shuffle(X, y, random_state=0)"
   ]
  },
  {
   "cell_type": "code",
   "execution_count": 38,
   "metadata": {},
   "outputs": [],
   "source": [
    "X,y = get_data(100)"
   ]
  },
  {
   "cell_type": "code",
   "execution_count": 39,
   "metadata": {},
   "outputs": [],
   "source": [
    "model = keras.Sequential([\n",
    "    keras.layers.Dense(units=256, activation='relu', input_shape=(400*400,)),\n",
    "    keras.layers.Dense(units=192, activation='relu'),\n",
    "    keras.layers.Dense(units=128, activation='relu'),\n",
    "    keras.layers.Dense(units=64, activation='relu'),\n",
    "    keras.layers.Dense(units=32, activation='relu'),\n",
    "    keras.layers.Dense(units=1, activation='sigmoid')\n",
    "])"
   ]
  },
  {
   "cell_type": "code",
   "execution_count": 40,
   "metadata": {},
   "outputs": [],
   "source": [
    "model.compile(loss='binary_crossentropy', optimizer='adam', metrics=['accuracy'])"
   ]
  },
  {
   "cell_type": "code",
   "execution_count": 41,
   "metadata": {},
   "outputs": [
    {
     "name": "stdout",
     "output_type": "stream",
     "text": [
      "Epoch 1/25\n",
      "7/7 [==============================] - 1s 160ms/step - loss: 0.8045 - accuracy: 0.5746 - val_loss: 1.1075 - val_accuracy: 0.5152\n",
      "Epoch 2/25\n",
      "7/7 [==============================] - 1s 142ms/step - loss: 0.6721 - accuracy: 0.9030 - val_loss: 1.1460 - val_accuracy: 0.5758\n",
      "Epoch 3/25\n",
      "7/7 [==============================] - 1s 141ms/step - loss: 0.0030 - accuracy: 1.0000 - val_loss: 1.4426 - val_accuracy: 0.5606\n",
      "Epoch 4/25\n",
      "7/7 [==============================] - 1s 146ms/step - loss: 0.0441 - accuracy: 0.9851 - val_loss: 1.5682 - val_accuracy: 0.5909\n",
      "Epoch 5/25\n",
      "7/7 [==============================] - 1s 142ms/step - loss: 0.0533 - accuracy: 0.9851 - val_loss: 1.7350 - val_accuracy: 0.5909\n",
      "Epoch 6/25\n",
      "7/7 [==============================] - 1s 137ms/step - loss: 1.1189e-05 - accuracy: 1.0000 - val_loss: 1.8767 - val_accuracy: 0.6667\n",
      "Epoch 7/25\n",
      "7/7 [==============================] - 1s 138ms/step - loss: 0.0416 - accuracy: 0.9925 - val_loss: 1.8631 - val_accuracy: 0.6515\n",
      "Epoch 8/25\n",
      "7/7 [==============================] - 1s 138ms/step - loss: 1.2627e-05 - accuracy: 1.0000 - val_loss: 1.7468 - val_accuracy: 0.6818\n",
      "Epoch 9/25\n",
      "7/7 [==============================] - 1s 134ms/step - loss: 1.0587e-05 - accuracy: 1.0000 - val_loss: 1.7097 - val_accuracy: 0.6515\n",
      "Epoch 10/25\n",
      "7/7 [==============================] - 1s 135ms/step - loss: 1.5819e-05 - accuracy: 1.0000 - val_loss: 1.6993 - val_accuracy: 0.6212\n",
      "Epoch 11/25\n",
      "7/7 [==============================] - 1s 139ms/step - loss: 2.4408e-05 - accuracy: 1.0000 - val_loss: 1.6962 - val_accuracy: 0.6364\n",
      "Epoch 12/25\n",
      "7/7 [==============================] - 1s 136ms/step - loss: 2.1871e-05 - accuracy: 1.0000 - val_loss: 1.6953 - val_accuracy: 0.6364\n",
      "Epoch 13/25\n",
      "7/7 [==============================] - 1s 136ms/step - loss: 1.7645e-05 - accuracy: 1.0000 - val_loss: 1.6952 - val_accuracy: 0.6212\n",
      "Epoch 14/25\n",
      "7/7 [==============================] - 1s 139ms/step - loss: 1.3950e-05 - accuracy: 1.0000 - val_loss: 1.6955 - val_accuracy: 0.6212\n",
      "Epoch 15/25\n",
      "7/7 [==============================] - 1s 139ms/step - loss: 1.0826e-05 - accuracy: 1.0000 - val_loss: 1.6959 - val_accuracy: 0.6364\n",
      "Epoch 16/25\n",
      "7/7 [==============================] - 1s 138ms/step - loss: 9.4045e-06 - accuracy: 1.0000 - val_loss: 1.6962 - val_accuracy: 0.6364\n",
      "Epoch 17/25\n",
      "7/7 [==============================] - 1s 143ms/step - loss: 7.6814e-06 - accuracy: 1.0000 - val_loss: 1.6964 - val_accuracy: 0.6364\n",
      "Epoch 18/25\n",
      "7/7 [==============================] - 1s 145ms/step - loss: 7.0643e-06 - accuracy: 1.0000 - val_loss: 1.6967 - val_accuracy: 0.6364\n",
      "Epoch 19/25\n",
      "7/7 [==============================] - 1s 140ms/step - loss: 6.3423e-06 - accuracy: 1.0000 - val_loss: 1.6969 - val_accuracy: 0.6364\n",
      "Epoch 20/25\n",
      "7/7 [==============================] - 1s 136ms/step - loss: 5.9461e-06 - accuracy: 1.0000 - val_loss: 1.6972 - val_accuracy: 0.6364\n",
      "Epoch 21/25\n",
      "7/7 [==============================] - 1s 140ms/step - loss: 5.5215e-06 - accuracy: 1.0000 - val_loss: 1.6974 - val_accuracy: 0.6364\n",
      "Epoch 22/25\n",
      "7/7 [==============================] - 1s 137ms/step - loss: 5.0450e-06 - accuracy: 1.0000 - val_loss: 1.6976 - val_accuracy: 0.6364\n",
      "Epoch 23/25\n",
      "7/7 [==============================] - 1s 136ms/step - loss: 4.7740e-06 - accuracy: 1.0000 - val_loss: 1.6978 - val_accuracy: 0.6364\n",
      "Epoch 24/25\n",
      "7/7 [==============================] - 1s 141ms/step - loss: 4.4863e-06 - accuracy: 1.0000 - val_loss: 1.6980 - val_accuracy: 0.6364\n",
      "Epoch 25/25\n",
      "7/7 [==============================] - 1s 137ms/step - loss: 4.2802e-06 - accuracy: 1.0000 - val_loss: 1.6982 - val_accuracy: 0.6364\n"
     ]
    },
    {
     "data": {
      "text/plain": [
       "<tensorflow.python.keras.callbacks.History at 0x1c0024f3d30>"
      ]
     },
     "execution_count": 41,
     "metadata": {},
     "output_type": "execute_result"
    }
   ],
   "source": [
    "model.fit(X, y, validation_split=0.33, epochs=25, batch_size=20)"
   ]
  }
 ],
 "metadata": {
  "kernelspec": {
   "display_name": "Python 3",
   "language": "python",
   "name": "python3"
  },
  "language_info": {
   "codemirror_mode": {
    "name": "ipython",
    "version": 3
   },
   "file_extension": ".py",
   "mimetype": "text/x-python",
   "name": "python",
   "nbconvert_exporter": "python",
   "pygments_lexer": "ipython3",
   "version": "3.8.8"
  }
 },
 "nbformat": 4,
 "nbformat_minor": 4
}
