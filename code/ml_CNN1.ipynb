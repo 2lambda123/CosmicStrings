{
 "cells": [
  {
   "cell_type": "code",
   "execution_count": 1,
   "metadata": {},
   "outputs": [],
   "source": [
    "import numpy as np\n",
    "import pandas as pd\n",
    "import matplotlib.pyplot as plt\n",
    "\n",
    "from tensorflow import keras\n",
    "from sklearn.model_selection import StratifiedKFold\n",
    "\n",
    "from utilities import load_data"
   ]
  },
  {
   "cell_type": "code",
   "execution_count": 2,
   "metadata": {},
   "outputs": [],
   "source": [
    "X,y = load_data(90, amplitude=10)"
   ]
  },
  {
   "cell_type": "code",
   "execution_count": 3,
   "metadata": {},
   "outputs": [
    {
     "data": {
      "text/plain": [
       "(180, 400, 400, 1)"
      ]
     },
     "execution_count": 3,
     "metadata": {},
     "output_type": "execute_result"
    }
   ],
   "source": [
    "X.shape #2n samples of 400x400 pixels, with a depth of 1 (greyscale type)"
   ]
  },
  {
   "cell_type": "code",
   "execution_count": 4,
   "metadata": {},
   "outputs": [
    {
     "data": {
      "text/plain": [
       "\"\\nconv2D(32, (3,3), activation='tanh') \\nconv2D(32, (3,3), activation='tanh') \\nconv2D(32, (3,3), activation='tanh') \\nconv2D(32, (3,3), activation='tanh') \\nFlatten()\\nDense(units=256, activation='relu')\\nDense(units=1, activation='sigmoid')\\n\\n\""
      ]
     },
     "execution_count": 4,
     "metadata": {},
     "output_type": "execute_result"
    }
   ],
   "source": [
    "'''\n",
    "conv2D(32, (3,3), activation='tanh') \n",
    "conv2D(32, (3,3), activation='tanh') \n",
    "conv2D(32, (3,3), activation='tanh') \n",
    "conv2D(32, (3,3), activation='tanh') \n",
    "Flatten()\n",
    "Dense(units=256, activation='relu')\n",
    "Dense(units=1, activation='sigmoid')\n",
    "\n",
    "'''"
   ]
  },
  {
   "cell_type": "code",
   "execution_count": 5,
   "metadata": {},
   "outputs": [
    {
     "name": "stdout",
     "output_type": "stream",
     "text": [
      "Model: \"sequential\"\n",
      "_________________________________________________________________\n",
      "Layer (type)                 Output Shape              Param #   \n",
      "=================================================================\n",
      "conv2d (Conv2D)              (None, 398, 398, 32)      320       \n",
      "_________________________________________________________________\n",
      "average_pooling2d (AveragePo (None, 132, 132, 32)      0         \n",
      "_________________________________________________________________\n",
      "conv2d_1 (Conv2D)            (None, 130, 130, 32)      9248      \n",
      "_________________________________________________________________\n",
      "average_pooling2d_1 (Average (None, 65, 65, 32)        0         \n",
      "_________________________________________________________________\n",
      "conv2d_2 (Conv2D)            (None, 63, 63, 32)        9248      \n",
      "_________________________________________________________________\n",
      "average_pooling2d_2 (Average (None, 31, 31, 32)        0         \n",
      "_________________________________________________________________\n",
      "flatten (Flatten)            (None, 30752)             0         \n",
      "_________________________________________________________________\n",
      "dense (Dense)                (None, 1)                 30753     \n",
      "=================================================================\n",
      "Total params: 49,569\n",
      "Trainable params: 49,569\n",
      "Non-trainable params: 0\n",
      "_________________________________________________________________\n",
      "Epoch 1/10\n",
      "6/6 [==============================] - 5s 787ms/step - loss: 0.6699 - acc: 0.5778\n",
      "Epoch 2/10\n",
      "6/6 [==============================] - 4s 745ms/step - loss: 0.4433 - acc: 0.8815\n",
      "Epoch 3/10\n",
      "6/6 [==============================] - 4s 736ms/step - loss: 0.1059 - acc: 0.9778\n",
      "Epoch 4/10\n",
      "6/6 [==============================] - 5s 760ms/step - loss: 0.0221 - acc: 0.9926\n",
      "Epoch 5/10\n",
      "6/6 [==============================] - 4s 738ms/step - loss: 0.0020 - acc: 1.0000\n",
      "Epoch 6/10\n",
      "6/6 [==============================] - 5s 751ms/step - loss: 0.0025 - acc: 1.0000\n",
      "Epoch 7/10\n",
      "6/6 [==============================] - 4s 733ms/step - loss: 0.0020 - acc: 1.0000\n",
      "Epoch 8/10\n",
      "6/6 [==============================] - 4s 745ms/step - loss: 1.6302e-05 - acc: 1.0000\n",
      "Epoch 9/10\n",
      "6/6 [==============================] - 4s 743ms/step - loss: 3.0106e-04 - acc: 1.0000\n",
      "Epoch 10/10\n",
      "6/6 [==============================] - 4s 738ms/step - loss: 4.6246e-05 - acc: 1.0000\n",
      "\n",
      "Evaluation of the model : \n",
      "\n",
      "2/2 [==============================] - 0s 86ms/step - loss: 6.6485e-06 - acc: 1.0000\n",
      "\n",
      "-----------------------------------\n",
      "\n",
      "Epoch 1/10\n",
      "6/6 [==============================] - 4s 738ms/step - loss: 0.6350 - acc: 0.6519\n",
      "Epoch 2/10\n",
      "6/6 [==============================] - 5s 754ms/step - loss: 0.3095 - acc: 0.9852\n",
      "Epoch 3/10\n",
      "6/6 [==============================] - 4s 744ms/step - loss: 0.0408 - acc: 0.9852\n",
      "Epoch 4/10\n",
      "6/6 [==============================] - 4s 735ms/step - loss: 0.0047 - acc: 1.0000\n",
      "Epoch 5/10\n",
      "6/6 [==============================] - 5s 757ms/step - loss: 0.0017 - acc: 1.0000\n",
      "Epoch 6/10\n",
      "6/6 [==============================] - 4s 738ms/step - loss: 9.0020e-06 - acc: 1.0000\n",
      "Epoch 7/10\n",
      "6/6 [==============================] - 4s 739ms/step - loss: 4.6306e-04 - acc: 1.0000\n",
      "Epoch 8/10\n",
      "6/6 [==============================] - 5s 761ms/step - loss: 1.9954e-06 - acc: 1.0000\n",
      "Epoch 9/10\n",
      "6/6 [==============================] - 4s 740ms/step - loss: 8.5659e-07 - acc: 1.0000\n",
      "Epoch 10/10\n",
      "6/6 [==============================] - 5s 781ms/step - loss: 5.5949e-06 - acc: 1.0000\n",
      "\n",
      "Evaluation of the model : \n",
      "\n",
      "2/2 [==============================] - 0s 99ms/step - loss: 1.1080e-05 - acc: 1.0000\n",
      "\n",
      "-----------------------------------\n",
      "\n",
      "Epoch 1/10\n",
      "6/6 [==============================] - 5s 773ms/step - loss: 0.6183 - acc: 0.6148\n",
      "Epoch 2/10\n",
      "6/6 [==============================] - 5s 772ms/step - loss: 0.3150 - acc: 0.9407\n",
      "Epoch 3/10\n",
      "6/6 [==============================] - 5s 754ms/step - loss: 0.1139 - acc: 0.9556\n",
      "Epoch 4/10\n",
      "6/6 [==============================] - 4s 746ms/step - loss: 0.0185 - acc: 0.9926\n",
      "Epoch 5/10\n",
      "6/6 [==============================] - 5s 752ms/step - loss: 0.0023 - acc: 1.0000\n",
      "Epoch 6/10\n",
      "6/6 [==============================] - 5s 770ms/step - loss: 3.7772e-04 - acc: 1.0000\n",
      "Epoch 7/10\n",
      "6/6 [==============================] - 5s 791ms/step - loss: 5.8450e-04 - acc: 1.0000\n",
      "Epoch 8/10\n",
      "6/6 [==============================] - 5s 764ms/step - loss: 2.5952e-04 - acc: 1.0000\n",
      "Epoch 9/10\n",
      "6/6 [==============================] - 5s 813ms/step - loss: 6.9032e-05 - acc: 1.0000\n",
      "Epoch 10/10\n",
      "6/6 [==============================] - 5s 799ms/step - loss: 2.5515e-05 - acc: 1.0000\n",
      "\n",
      "Evaluation of the model : \n",
      "\n",
      "2/2 [==============================] - 0s 95ms/step - loss: 2.8221e-05 - acc: 1.0000\n",
      "\n",
      "-----------------------------------\n",
      "\n",
      "Epoch 1/10\n",
      "6/6 [==============================] - 5s 823ms/step - loss: 0.6406 - acc: 0.7185\n",
      "Epoch 2/10\n",
      "6/6 [==============================] - 5s 798ms/step - loss: 0.3379 - acc: 0.9556\n",
      "Epoch 3/10\n",
      "6/6 [==============================] - 5s 779ms/step - loss: 0.0767 - acc: 0.9926\n",
      "Epoch 4/10\n",
      "6/6 [==============================] - 5s 809ms/step - loss: 0.0350 - acc: 0.9852\n",
      "Epoch 5/10\n",
      "6/6 [==============================] - 5s 856ms/step - loss: 0.0111 - acc: 1.0000\n",
      "Epoch 6/10\n",
      "6/6 [==============================] - 5s 764ms/step - loss: 0.0115 - acc: 0.9926\n",
      "Epoch 7/10\n",
      "6/6 [==============================] - 5s 794ms/step - loss: 0.0873 - acc: 0.9185\n",
      "Epoch 8/10\n",
      "6/6 [==============================] - 5s 794ms/step - loss: 0.4035 - acc: 0.9185\n",
      "Epoch 9/10\n",
      "6/6 [==============================] - 5s 778ms/step - loss: 0.0812 - acc: 1.0000\n",
      "Epoch 10/10\n",
      "6/6 [==============================] - 5s 769ms/step - loss: 1.1369e-04 - acc: 1.0000\n",
      "\n",
      "Evaluation of the model : \n",
      "\n",
      "2/2 [==============================] - 0s 88ms/step - loss: 0.0014 - acc: 1.0000\n",
      "\n",
      "-----------------------------------\n",
      "\n"
     ]
    }
   ],
   "source": [
    "skfold = StratifiedKFold(n_splits=4)\n",
    "\n",
    "acc_per_fold = []\n",
    "loss_per_fold = []\n",
    "\n",
    "for train, test in skfold.split(X,y):\n",
    "\n",
    "    #define the model\n",
    "    model = keras.models.Sequential()\n",
    "    \n",
    "    model.add(keras.layers.Conv2D(32, (3, 3), activation='tanh', input_shape=X.shape[1:]))\n",
    "    model.add(keras.layers.AveragePooling2D((3, 3)))\n",
    "    \n",
    "    model.add(keras.layers.Conv2D(32, (3, 3), activation='tanh'))\n",
    "    model.add(keras.layers.AveragePooling2D((2, 2)))\n",
    "\n",
    "    model.add(keras.layers.Conv2D(32, (3, 3), activation='tanh'))\n",
    "    model.add(keras.layers.AveragePooling2D((2, 2)))\n",
    "\n",
    "    model.add(keras.layers.Flatten())\n",
    "    model.add(keras.layers.Dense(1, activation='sigmoid'))\n",
    "    \n",
    "    if len(acc_per_fold)==0 : model.summary()\n",
    "    #compile the model\n",
    "    model.compile(loss='binary_crossentropy', optimizer='adam', metrics=['acc'])\n",
    "\n",
    "    #fit the model\n",
    "    history = model.fit(X[train], y[train], epochs=10, batch_size=25, verbose=1)\n",
    "\n",
    "    #evaluate the model\n",
    "    print('\\nEvaluation of the model : \\n')\n",
    "    scores = model.evaluate(X[test], y[test])\n",
    "    acc_per_fold.append(scores[1] * 100)\n",
    "    loss_per_fold.append(scores[0])\n",
    "    print(\"\\n-----------------------------------\\n\")\n"
   ]
  },
  {
   "cell_type": "code",
   "execution_count": 6,
   "metadata": {},
   "outputs": [
    {
     "data": {
      "text/plain": [
       "[100.0, 100.0, 100.0, 100.0]"
      ]
     },
     "execution_count": 6,
     "metadata": {},
     "output_type": "execute_result"
    }
   ],
   "source": [
    "acc_per_fold"
   ]
  }
 ],
 "metadata": {
  "kernelspec": {
   "display_name": "Python 3",
   "language": "python",
   "name": "python3"
  },
  "language_info": {
   "codemirror_mode": {
    "name": "ipython",
    "version": 3
   },
   "file_extension": ".py",
   "mimetype": "text/x-python",
   "name": "python",
   "nbconvert_exporter": "python",
   "pygments_lexer": "ipython3",
   "version": "3.8.8"
  }
 },
 "nbformat": 4,
 "nbformat_minor": 4
}
